{
  "nbformat": 4,
  "nbformat_minor": 0,
  "metadata": {
    "colab": {
      "name": "RNN practice.ipynb",
      "provenance": [],
      "collapsed_sections": [],
      "authorship_tag": "ABX9TyP+3cHTR0xgFIM1TCKjFKKu",
      "include_colab_link": true
    },
    "kernelspec": {
      "name": "python3",
      "display_name": "Python 3"
    },
    "language_info": {
      "name": "python"
    },
    "accelerator": "GPU"
  },
  "cells": [
    {
      "cell_type": "markdown",
      "metadata": {
        "id": "view-in-github",
        "colab_type": "text"
      },
      "source": [
        "<a href=\"https://colab.research.google.com/github/musashiCZX/RNN-practice/blob/main/RNN_practice.ipynb\" target=\"_parent\"><img src=\"https://colab.research.google.com/assets/colab-badge.svg\" alt=\"Open In Colab\"/></a>"
      ]
    },
    {
      "cell_type": "code",
      "source": [
        "import numpy as np\n",
        "import keras\n",
        "import tensorflow as tf"
      ],
      "metadata": {
        "id": "aSYo_SORzwrY"
      },
      "execution_count": null,
      "outputs": []
    },
    {
      "cell_type": "code",
      "execution_count": null,
      "metadata": {
        "id": "CqaQOfOzzfq3"
      },
      "outputs": [],
      "source": [
        "def generate_time_series(batch_size, n_steps):\n",
        "  freq1, freq2, offsets1, offsets2 = np.random.rand(4, batch_size, 1)\n",
        "  time = np.linspace(0, 1, n_steps)\n",
        "  series = 0.5 * np.sin((time - offsets1) * (freq1 * 10 + 10)) # wave 1\n",
        "  series += 0.2 * np.sin((time - offsets2) * (freq2 * 20 + 20)) # + wave 2\n",
        "  series += 0.1 * (np.random.rand(batch_size, n_steps) - 0.5) # + noise\n",
        "  return series[..., np.newaxis].astype(np.float32)"
      ]
    },
    {
      "cell_type": "code",
      "source": [
        "n_steps = 50\n",
        "series = generate_time_series(10000, n_steps + 1)\n",
        "X_train, y_train = series[:7000, :n_steps], series[:7000, -1]\n",
        "X_valid, y_valid = series[7000:9000, :n_steps], series[7000:9000, -1]\n",
        "X_test, y_test = series[9000:, :n_steps], series[9000:, -1]"
      ],
      "metadata": {
        "id": "fsJ6fiGwzrpP"
      },
      "execution_count": null,
      "outputs": []
    },
    {
      "cell_type": "code",
      "source": [
        "batch_size = 10000\n",
        "n_step = 50"
      ],
      "metadata": {
        "id": "aX4fj-Qvz0ll"
      },
      "execution_count": null,
      "outputs": []
    },
    {
      "cell_type": "code",
      "source": [
        "freq1, freq2, offsets1, offsets2 = np.random.rand(4, batch_size, 1)"
      ],
      "metadata": {
        "id": "4b4RNGvBz1qR"
      },
      "execution_count": null,
      "outputs": []
    },
    {
      "cell_type": "code",
      "source": [
        ""
      ],
      "metadata": {
        "id": "FylsTclR1vFd"
      },
      "execution_count": null,
      "outputs": []
    },
    {
      "cell_type": "markdown",
      "source": [
        "The simplest model with only one neuron"
      ],
      "metadata": {
        "id": "EA_3gwt8PWKX"
      }
    },
    {
      "cell_type": "code",
      "source": [
        "model = keras.models.Sequential([\n",
        "keras.layers.SimpleRNN(1, input_shape=[None, 1])\n",
        "])"
      ],
      "metadata": {
        "id": "Roo6K4av_kGj"
      },
      "execution_count": null,
      "outputs": []
    },
    {
      "cell_type": "markdown",
      "source": [
        "More complicated model"
      ],
      "metadata": {
        "id": "YKWUkt33PZ5a"
      }
    },
    {
      "cell_type": "code",
      "source": [
        "model = keras.models.Sequential([\n",
        "keras.layers.SimpleRNN(20, return_sequences=True, input_shape=[None, 1]),\n",
        "keras.layers.SimpleRNN(20),\n",
        "keras.layers.Dense(1)\n",
        "])"
      ],
      "metadata": {
        "id": "QXkZW21dPUkU"
      },
      "execution_count": null,
      "outputs": []
    },
    {
      "cell_type": "code",
      "source": [
        "model.compile(loss = 'mse', metrics=['mae'])"
      ],
      "metadata": {
        "id": "ABc-dunXNE3L"
      },
      "execution_count": null,
      "outputs": []
    },
    {
      "cell_type": "code",
      "source": [
        "model.fit(x = X_train, y = y_train, epochs = 20, validation_data = (X_valid, y_valid))"
      ],
      "metadata": {
        "colab": {
          "base_uri": "https://localhost:8080/"
        },
        "id": "dpefUnKRNoIm",
        "outputId": "1d2207e7-526f-435e-e7fe-9a8ce3ce07ec"
      },
      "execution_count": null,
      "outputs": [
        {
          "output_type": "stream",
          "name": "stdout",
          "text": [
            "Epoch 1/20\n",
            "219/219 [==============================] - 33s 140ms/step - loss: 0.0218 - mae: 0.0963 - val_loss: 0.0061 - val_mae: 0.0629\n",
            "Epoch 2/20\n",
            "219/219 [==============================] - 29s 135ms/step - loss: 0.0045 - mae: 0.0535 - val_loss: 0.0033 - val_mae: 0.0465\n",
            "Epoch 3/20\n",
            "219/219 [==============================] - 31s 140ms/step - loss: 0.0036 - mae: 0.0485 - val_loss: 0.0035 - val_mae: 0.0482\n",
            "Epoch 4/20\n",
            "219/219 [==============================] - 32s 144ms/step - loss: 0.0034 - mae: 0.0471 - val_loss: 0.0035 - val_mae: 0.0475\n",
            "Epoch 5/20\n",
            "219/219 [==============================] - 30s 138ms/step - loss: 0.0033 - mae: 0.0467 - val_loss: 0.0032 - val_mae: 0.0456\n",
            "Epoch 6/20\n",
            "219/219 [==============================] - 30s 139ms/step - loss: 0.0032 - mae: 0.0459 - val_loss: 0.0033 - val_mae: 0.0466\n",
            "Epoch 7/20\n",
            "219/219 [==============================] - 31s 142ms/step - loss: 0.0032 - mae: 0.0454 - val_loss: 0.0030 - val_mae: 0.0443\n",
            "Epoch 8/20\n",
            "219/219 [==============================] - 31s 141ms/step - loss: 0.0032 - mae: 0.0456 - val_loss: 0.0028 - val_mae: 0.0425\n",
            "Epoch 9/20\n",
            "219/219 [==============================] - 30s 138ms/step - loss: 0.0031 - mae: 0.0450 - val_loss: 0.0032 - val_mae: 0.0460\n",
            "Epoch 10/20\n",
            "219/219 [==============================] - 31s 140ms/step - loss: 0.0031 - mae: 0.0446 - val_loss: 0.0029 - val_mae: 0.0437\n",
            "Epoch 11/20\n",
            "219/219 [==============================] - 31s 141ms/step - loss: 0.0031 - mae: 0.0447 - val_loss: 0.0031 - val_mae: 0.0446\n",
            "Epoch 12/20\n",
            "219/219 [==============================] - 31s 142ms/step - loss: 0.0030 - mae: 0.0444 - val_loss: 0.0030 - val_mae: 0.0442\n",
            "Epoch 13/20\n",
            "219/219 [==============================] - 30s 137ms/step - loss: 0.0030 - mae: 0.0441 - val_loss: 0.0033 - val_mae: 0.0458\n",
            "Epoch 14/20\n",
            "219/219 [==============================] - 31s 140ms/step - loss: 0.0030 - mae: 0.0440 - val_loss: 0.0034 - val_mae: 0.0468\n",
            "Epoch 15/20\n",
            "219/219 [==============================] - 31s 144ms/step - loss: 0.0030 - mae: 0.0439 - val_loss: 0.0030 - val_mae: 0.0443\n",
            "Epoch 16/20\n",
            "219/219 [==============================] - 31s 139ms/step - loss: 0.0030 - mae: 0.0442 - val_loss: 0.0041 - val_mae: 0.0518\n",
            "Epoch 17/20\n",
            "219/219 [==============================] - 30s 139ms/step - loss: 0.0029 - mae: 0.0434 - val_loss: 0.0032 - val_mae: 0.0455\n",
            "Epoch 18/20\n",
            "219/219 [==============================] - 30s 139ms/step - loss: 0.0029 - mae: 0.0437 - val_loss: 0.0030 - val_mae: 0.0439\n",
            "Epoch 19/20\n",
            "219/219 [==============================] - 32s 144ms/step - loss: 0.0029 - mae: 0.0437 - val_loss: 0.0033 - val_mae: 0.0467\n",
            "Epoch 20/20\n",
            "219/219 [==============================] - 30s 138ms/step - loss: 0.0029 - mae: 0.0432 - val_loss: 0.0031 - val_mae: 0.0452\n"
          ]
        },
        {
          "output_type": "execute_result",
          "data": {
            "text/plain": [
              "<keras.callbacks.History at 0x7f8dd023b710>"
            ]
          },
          "metadata": {},
          "execution_count": 12
        }
      ]
    },
    {
      "cell_type": "code",
      "source": [
        "series = generate_time_series(1, n_steps + 10)\n",
        "X_new, Y_new = series[:, :n_steps], series[:, n_steps:]\n",
        "X = X_new\n",
        "for step_ahead in range(10):\n",
        "  y_pred_one = model.predict(X[:, step_ahead:])[:, np.newaxis, :]\n",
        "  X = np.concatenate([X, y_pred_one], axis=1)\n",
        "  Y_pred = X[:, n_steps:]"
      ],
      "metadata": {
        "id": "rqUX0Dz6ARL9"
      },
      "execution_count": null,
      "outputs": []
    },
    {
      "cell_type": "code",
      "source": [
        "Y = np.empty((10000, n_steps, 10)) # each target is a sequence of 10D vectors\n",
        "for step_ahead in range(1, 10 + 1):\n",
        "  Y[:, :, step_ahead - 1] = series[:, step_ahead:step_ahead + n_steps, 0]\n",
        "  Y_train = Y[:7000]\n",
        "  Y_valid = Y[7000:9000]\n",
        "  Y_test = Y[9000:]"
      ],
      "metadata": {
        "id": "hPaYnWOPS9D3"
      },
      "execution_count": null,
      "outputs": []
    },
    {
      "cell_type": "code",
      "source": [
        "model = keras.models.Sequential([\n",
        "keras.layers.SimpleRNN(20, return_sequences=True, input_shape=[None, 1]),\n",
        "keras.layers.SimpleRNN(20, return_sequences=True),\n",
        "keras.layers.TimeDistributed(keras.layers.Dense(10))\n",
        "])"
      ],
      "metadata": {
        "id": "Z-0Uk-uiTAFR"
      },
      "execution_count": null,
      "outputs": []
    },
    {
      "cell_type": "code",
      "source": [
        "def last_time_step_mse(Y_true, Y_pred):\n",
        "  return tf.keras.metrics.mean_squared_error(Y_true[:, -1], Y_pred[:, -1])\n",
        "optimizer = tf.keras.optimizers.Adam(learning_rate = 0.01)\n",
        "model.compile(optimizer = optimizer, loss = 'mse', metrics = [last_time_step_mse])"
      ],
      "metadata": {
        "id": "YPdClOM7ee_6"
      },
      "execution_count": null,
      "outputs": []
    },
    {
      "cell_type": "code",
      "source": [
        "model.fit(x = X_train, y = Y_train, validation_data = (X_valid, Y_valid), epochs = 10)"
      ],
      "metadata": {
        "colab": {
          "base_uri": "https://localhost:8080/"
        },
        "id": "GzyxidICehr7",
        "outputId": "1944f621-7ee5-4c8e-ec72-249e29524a96"
      },
      "execution_count": null,
      "outputs": [
        {
          "output_type": "stream",
          "name": "stdout",
          "text": [
            "Epoch 1/10\n",
            "219/219 [==============================] - 34s 146ms/step - loss: 0.0287 - last_time_step_mse: 0.0430 - val_loss: 0.0025 - val_last_time_step_mse: 0.0024\n",
            "Epoch 2/10\n",
            "219/219 [==============================] - 32s 145ms/step - loss: 0.0024 - last_time_step_mse: 0.0048 - val_loss: 8.2350e-04 - val_last_time_step_mse: 8.8166e-04\n",
            "Epoch 3/10\n",
            "219/219 [==============================] - 31s 141ms/step - loss: 7.9212e-04 - last_time_step_mse: 0.0014 - val_loss: 5.8537e-04 - val_last_time_step_mse: 9.0580e-04\n",
            "Epoch 4/10\n",
            "219/219 [==============================] - 31s 140ms/step - loss: 8.5151e-04 - last_time_step_mse: 0.0019 - val_loss: 5.9144e-04 - val_last_time_step_mse: 7.7548e-04\n",
            "Epoch 5/10\n",
            "219/219 [==============================] - 30s 138ms/step - loss: 0.0010 - last_time_step_mse: 0.0027 - val_loss: 5.6143e-04 - val_last_time_step_mse: 9.6929e-04\n",
            "Epoch 6/10\n",
            "219/219 [==============================] - 31s 140ms/step - loss: 9.3958e-04 - last_time_step_mse: 0.0025 - val_loss: 4.5359e-04 - val_last_time_step_mse: 8.1256e-04\n",
            "Epoch 7/10\n",
            "219/219 [==============================] - 31s 141ms/step - loss: 5.2895e-04 - last_time_step_mse: 0.0011 - val_loss: 3.3897e-04 - val_last_time_step_mse: 4.5985e-04\n",
            "Epoch 8/10\n",
            "219/219 [==============================] - 30s 137ms/step - loss: 6.9225e-04 - last_time_step_mse: 0.0018 - val_loss: 3.3226e-04 - val_last_time_step_mse: 5.2063e-04\n",
            "Epoch 9/10\n",
            "219/219 [==============================] - 30s 139ms/step - loss: 6.1652e-04 - last_time_step_mse: 0.0017 - val_loss: 3.3101e-04 - val_last_time_step_mse: 7.6147e-04\n",
            "Epoch 10/10\n",
            "219/219 [==============================] - 32s 145ms/step - loss: 3.8608e-04 - last_time_step_mse: 9.9248e-04 - val_loss: 3.4651e-04 - val_last_time_step_mse: 7.4101e-04\n"
          ]
        },
        {
          "output_type": "execute_result",
          "data": {
            "text/plain": [
              "<keras.callbacks.History at 0x7f8d55c33b50>"
            ]
          },
          "metadata": {},
          "execution_count": 31
        }
      ]
    }
  ]
}